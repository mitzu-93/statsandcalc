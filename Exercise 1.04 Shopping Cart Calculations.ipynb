{
 "cells": [
  {
   "cell_type": "code",
   "execution_count": 1,
   "id": "bc9b3547",
   "metadata": {},
   "outputs": [
    {
     "name": "stdout",
     "output_type": "stream",
     "text": [
      "Would you like to continue shopping?y\n",
      "Available products and prices: {'Charizard': 300000, 'Blastoise': 200000, 'Venasaur': 100000}\n",
      "Which product would you like to         add to your cart?Charizard\n",
      "Would you like to continue shopping?y\n",
      "Available products and prices: {'Charizard': 300000, 'Blastoise': 200000, 'Venasaur': 100000}\n",
      "Which product would you like to         add to your cart?Blastoise\n",
      "Would you like to continue shopping?y\n",
      "Available products and prices: {'Charizard': 300000, 'Blastoise': 200000, 'Venasaur': 100000}\n",
      "Which product would you like to         add to your cart?Blastoise\n",
      "Would you like to continue shopping?n\n"
     ]
    }
   ],
   "source": [
    "prices = {'Charizard': 300000, \n",
    "          'Blastoise': 200000, \n",
    "          'Venasaur': 100000,\n",
    "         }\n",
    "\n",
    "cart = {}\n",
    "\n",
    "while True:\n",
    "    _continue = input('Would you like to continue shopping?')\n",
    "    \n",
    "    if _continue == 'y':\n",
    "        print(f'Available products and prices: {prices}')\n",
    "        new_item = input('Which product would you like to \\\n",
    "        add to your cart?')\n",
    "        \n",
    "        if new_item in prices:\n",
    "            if new_item in cart:\n",
    "                cart[new_item] += 1\n",
    "            else:\n",
    "                cart[new_item] = 1\n",
    "        else:\n",
    "            print('Please choose from products')\n",
    "    \n",
    "    elif _continue == 'n':\n",
    "        break\n",
    "    else:\n",
    "        print('Please enter only \"y\" or \"n\"')"
   ]
  },
  {
   "cell_type": "code",
   "execution_count": 5,
   "id": "32f94733",
   "metadata": {},
   "outputs": [
    {
     "name": "stdout",
     "output_type": "stream",
     "text": [
      "Your final cart is:\n",
      "1 Charizard(s) has been added to your bill\n",
      "2 Blastoise(s) has been added to your bill\n",
      "your final bill is: 800000GBP\n"
     ]
    }
   ],
   "source": [
    "running_sum = 0\n",
    "print(f'Your final cart is:')\n",
    "for item in cart:\n",
    "    running_sum += cart[new_item] * prices[new_item]\n",
    "    print(f'{cart[item]} {item}(s) has been added to your bill')\n",
    "print(f'your final bill is: {running_sum}GBP')"
   ]
  },
  {
   "cell_type": "code",
   "execution_count": null,
   "id": "da6f069d",
   "metadata": {},
   "outputs": [],
   "source": []
  }
 ],
 "metadata": {
  "kernelspec": {
   "display_name": "Python 3 (ipykernel)",
   "language": "python",
   "name": "python3"
  },
  "language_info": {
   "codemirror_mode": {
    "name": "ipython",
    "version": 3
   },
   "file_extension": ".py",
   "mimetype": "text/x-python",
   "name": "python",
   "nbconvert_exporter": "python",
   "pygments_lexer": "ipython3",
   "version": "3.8.10"
  }
 },
 "nbformat": 4,
 "nbformat_minor": 5
}
