{
 "cells": [
  {
   "cell_type": "code",
   "execution_count": 29,
   "id": "dc93365e",
   "metadata": {},
   "outputs": [],
   "source": [
    "N = 12\n",
    "\n",
    "def display_solution(board):\n",
    "    for i in range(N):\n",
    "        for j in range(N):\n",
    "            print(board[i][j], end='')\n",
    "        print()"
   ]
  },
  {
   "cell_type": "code",
   "execution_count": 30,
   "id": "dcd622ca",
   "metadata": {},
   "outputs": [],
   "source": [
    "# check if queen can be placed\n",
    "def check_next(board, row, col):\n",
    "    # check the current col\n",
    "    for i in range(row):\n",
    "        if board[i][col] == 1:\n",
    "            return False\n",
    "\n",
    "    # check upper left diag\n",
    "    for i, j in zip(range(row, -1, -1), \\\n",
    "                    range(col, -1, -1)):\n",
    "        if board[i][j] == 1:\n",
    "            return False\n",
    "\n",
    "    # check the upper-right diag\n",
    "    for i, j in zip(range(row, -1, -1), \\\n",
    "                    range(col, N)):\n",
    "        if board[i][j] == 1:\n",
    "            return False\n",
    "    return True"
   ]
  },
  {
   "cell_type": "code",
   "execution_count": 31,
   "id": "acd51d4d",
   "metadata": {},
   "outputs": [],
   "source": [
    "def recur_generate_solution(board, row_id):\n",
    "    # rreturn if we reach last row\n",
    "    if row_id >= N:\n",
    "        return True\n",
    "    \n",
    "    #iteratively try out cells in curr row\n",
    "    for i in range(N):\n",
    "        if check_next(board, row_id, i):\n",
    "            board[row_id][i] = 1\n",
    "            \n",
    "            #ret if valid solution\n",
    "            final_board = recur_generate_solution(\\\n",
    "                            board, row_id + 1)\n",
    "            if final_board:\n",
    "                return True\n",
    "            \n",
    "            board[row_id][i] = 0\n",
    "            \n",
    "    return False"
   ]
  },
  {
   "cell_type": "code",
   "execution_count": 32,
   "id": "78e3f908",
   "metadata": {},
   "outputs": [
    {
     "name": "stdout",
     "output_type": "stream",
     "text": [
      "Solution was found\n",
      "100000000000\n",
      "001000000000\n",
      "000010000000\n",
      "000000010000\n",
      "000000000100\n",
      "000000000001\n",
      "000001000000\n",
      "000000000010\n",
      "010000000000\n",
      "000000100000\n",
      "000000001000\n",
      "000100000000\n"
     ]
    }
   ],
   "source": [
    "my_board = [[0 for _ in range(N)] for __ in range(N)]\n",
    "final_solution = recur_generate_solution(my_board, 0)\n",
    "\n",
    "if final_solution is False:\n",
    "    print('Solution cannot be found')\n",
    "else:\n",
    "    print('Solution was found')\n",
    "    display_solution(my_board)"
   ]
  },
  {
   "cell_type": "code",
   "execution_count": null,
   "id": "f50bc21a",
   "metadata": {},
   "outputs": [],
   "source": []
  }
 ],
 "metadata": {
  "kernelspec": {
   "display_name": "Python 3 (ipykernel)",
   "language": "python",
   "name": "python3"
  },
  "language_info": {
   "codemirror_mode": {
    "name": "ipython",
    "version": 3
   },
   "file_extension": ".py",
   "mimetype": "text/x-python",
   "name": "python",
   "nbconvert_exporter": "python",
   "pygments_lexer": "ipython3",
   "version": "3.10.6"
  }
 },
 "nbformat": 4,
 "nbformat_minor": 5
}
