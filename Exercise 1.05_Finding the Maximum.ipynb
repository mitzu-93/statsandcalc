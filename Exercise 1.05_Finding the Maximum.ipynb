{
 "cells": [
  {
   "cell_type": "code",
   "execution_count": 13,
   "id": "bb52dffb",
   "metadata": {},
   "outputs": [
    {
     "name": "stdout",
     "output_type": "stream",
     "text": [
      "[23, 25, 190, 234, 0, 1, 2, 3, 4, 5, 6, 7, 8, 9, 10, 11, 12, 13, 14, 15, 16, 17, 18, 19]\n"
     ]
    }
   ],
   "source": [
    "# regular way. \n",
    "list = [23, 25, 190, 234]\n",
    "for i in range(20):\n",
    "    list.append(i)\n",
    "print(list)"
   ]
  },
  {
   "cell_type": "code",
   "execution_count": 14,
   "id": "a6ce212c",
   "metadata": {},
   "outputs": [
    {
     "name": "stdout",
     "output_type": "stream",
     "text": [
      "this is the new highest value:23\n",
      "this is the new highest value:25\n",
      "this is the new highest value:190\n",
      "this is the new highest value:234\n"
     ]
    }
   ],
   "source": [
    "max = 0\n",
    "for m in list:\n",
    "    if m > max:\n",
    "        max = m\n",
    "        print(f'this is the new highest value:{max}')"
   ]
  },
  {
   "cell_type": "code",
   "execution_count": 26,
   "id": "2c16c8c5",
   "metadata": {},
   "outputs": [
    {
     "data": {
      "text/plain": [
       "(7, 100)"
      ]
     },
     "execution_count": 26,
     "metadata": {},
     "output_type": "execute_result"
    }
   ],
   "source": [
    "def get_max(my_list):\n",
    "    running_max_index = 0\n",
    "    # iterate of index-value pairs.\n",
    "    for index, item in enumerate(my_list):\n",
    "        if item >= my_list[running_max_index]:\n",
    "            running_max_index = index\n",
    "    return running_max_index, my_list[running_max_index]\n",
    "\n",
    "get_max([1, 3, 56, 29, 100, 99, 3, 100, 10, 23])"
   ]
  },
  {
   "cell_type": "code",
   "execution_count": null,
   "id": "baaba10c",
   "metadata": {},
   "outputs": [],
   "source": []
  }
 ],
 "metadata": {
  "kernelspec": {
   "display_name": "Python 3 (ipykernel)",
   "language": "python",
   "name": "python3"
  },
  "language_info": {
   "codemirror_mode": {
    "name": "ipython",
    "version": 3
   },
   "file_extension": ".py",
   "mimetype": "text/x-python",
   "name": "python",
   "nbconvert_exporter": "python",
   "pygments_lexer": "ipython3",
   "version": "3.8.10"
  }
 },
 "nbformat": 4,
 "nbformat_minor": 5
}
