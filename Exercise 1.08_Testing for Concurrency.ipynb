{
 "cells": [
  {
   "cell_type": "code",
   "execution_count": 21,
   "id": "f874d897",
   "metadata": {},
   "outputs": [],
   "source": [
    "import unittest\n",
    "\n",
    "class SampleTest(unittest.TestCase):\n",
    "    def test_equal(self):\n",
    "        self.assertEqual(2 ** 3 - 1, 7)\n",
    "        self.assertEqual('Hello, world!', 'Hello, ' + 'world!')\n",
    "        \n",
    "    def test_true(self):\n",
    "        self.assertTrue(2 ** 3 < 3 ** 2)\n",
    "        for x in range(10):\n",
    "            self.assertTrue(- x ** 2 <= 0)"
   ]
  },
  {
   "cell_type": "code",
   "execution_count": 22,
   "id": "8f9fc66f",
   "metadata": {},
   "outputs": [
    {
     "name": "stderr",
     "output_type": "stream",
     "text": [
      "test_equal (__main__.SampleTest) ... ok\n",
      "test_true (__main__.SampleTest) ... ok\n",
      "\n",
      "----------------------------------------------------------------------\n",
      "Ran 2 tests in 0.002s\n",
      "\n",
      "OK\n"
     ]
    },
    {
     "data": {
      "text/plain": [
       "<unittest.main.TestProgram at 0x7f29f43840d0>"
      ]
     },
     "execution_count": 22,
     "metadata": {},
     "output_type": "execute_result"
    }
   ],
   "source": [
    ">>> unittest.main(argv=[''], verbosity=2, exit=False)"
   ]
  },
  {
   "cell_type": "markdown",
   "id": "2212cdac",
   "metadata": {},
   "source": [
    "### Exercise 1.08: Testing for Concurrency"
   ]
  },
  {
   "cell_type": "code",
   "execution_count": null,
   "id": "6d4ed185",
   "metadata": {},
   "outputs": [],
   "source": []
  }
 ],
 "metadata": {
  "kernelspec": {
   "display_name": "Python 3 (ipykernel)",
   "language": "python",
   "name": "python3"
  },
  "language_info": {
   "codemirror_mode": {
    "name": "ipython",
    "version": 3
   },
   "file_extension": ".py",
   "mimetype": "text/x-python",
   "name": "python",
   "nbconvert_exporter": "python",
   "pygments_lexer": "ipython3",
   "version": "3.10.6"
  }
 },
 "nbformat": 4,
 "nbformat_minor": 5
}
