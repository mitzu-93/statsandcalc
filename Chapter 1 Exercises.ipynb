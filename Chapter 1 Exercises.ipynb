{
 "cells": [
  {
   "cell_type": "code",
   "execution_count": null,
   "id": "1470aba3",
   "metadata": {},
   "outputs": [],
   "source": [
    "x = input('Enter a number:')\n",
    "x = int(x)\n",
    "\n",
    "if x % 5 == 0: \n",
    "    with open('output.txt', 'w') as f:\n",
    "        f.write('x is divisible by 5')\n",
    "elif x % 6 == 0:\n",
    "    with open('output.txt', 'w') as f:\n",
    "        f.write('x is divisible by 6')\n",
    "elif x % 7 == 0:\n",
    "    with open('output.txt', 'w') as f:\n",
    "        f.write('x is divisible by 7')\n",
    "else:\n",
    "    with open('output.txt', 'w') as f:\n",
    "        f.write('x is not divisible by 5, 6 or 7.')"
   ]
  },
  {
   "cell_type": "code",
   "execution_count": null,
   "id": "1652c651",
   "metadata": {},
   "outputs": [],
   "source": [
    "import random as rand\n",
    "true_value = rand.randint(0, 100)\n",
    "while True:\n",
    "    guess = input('Enter your guess: ')\n",
    "    guess = int(guess)\n",
    "\n",
    "    if guess == true_value:\n",
    "        print('와, 잘 했지. 어떻게 알지?')\n",
    "    elif guess > true_value:\n",
    "        print('too high idiot')\n",
    "    else:\n",
    "        print('too low stupid')"
   ]
  },
  {
   "cell_type": "code",
   "execution_count": null,
   "id": "7fd04fac",
   "metadata": {},
   "outputs": [],
   "source": []
  }
 ],
 "metadata": {
  "kernelspec": {
   "display_name": "Python 3 (ipykernel)",
   "language": "python",
   "name": "python3"
  },
  "language_info": {
   "codemirror_mode": {
    "name": "ipython",
    "version": 3
   },
   "file_extension": ".py",
   "mimetype": "text/x-python",
   "name": "python",
   "nbconvert_exporter": "python",
   "pygments_lexer": "ipython3",
   "version": "3.8.10"
  }
 },
 "nbformat": 4,
 "nbformat_minor": 5
}
